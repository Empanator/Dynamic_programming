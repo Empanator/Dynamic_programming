{
 "cells": [
  {
   "cell_type": "markdown",
   "metadata": {},
   "source": [
    "<div class=\"alert alert-block alert-info\">\n",
    "<b>Fibonacci sequence</b>\n",
    "</div>"
   ]
  },
  {
   "cell_type": "code",
   "execution_count": 1,
   "metadata": {},
   "outputs": [
    {
     "name": "stdout",
     "output_type": "stream",
     "text": [
      "Choose the number of terms of fibonacci sequence to display: 10\n",
      "fibonacci(0) = 0\n",
      "fibonacci(1) = 1\n",
      "fibonacci(2) = 1\n",
      "fibonacci(3) = 2\n",
      "fibonacci(4) = 3\n",
      "fibonacci(5) = 5\n",
      "fibonacci(6) = 8\n",
      "fibonacci(7) = 13\n",
      "fibonacci(8) = 21\n",
      "fibonacci(9) = 34\n"
     ]
    }
   ],
   "source": [
    "a = 0\n",
    "b = 1\n",
    "count = 0\n",
    "n = int(input('Choose the number of terms of fibonacci sequence to display: '))\n",
    "\n",
    "while count < n:\n",
    "        print('fibonacci(%d) = %d' % (count, a))\n",
    "        fib = a + b\n",
    "        a = b\n",
    "        b = fib\n",
    "        count += 1"
   ]
  },
  {
   "cell_type": "markdown",
   "metadata": {},
   "source": [
    "<div class=\"alert alert-block alert-info\">\n",
    "<b>Fibonacci sequence using Recursion</b>\n",
    "</div>"
   ]
  },
  {
   "cell_type": "code",
   "execution_count": 2,
   "metadata": {},
   "outputs": [
    {
     "name": "stdout",
     "output_type": "stream",
     "text": [
      "Choose the number of terms of fibonacci sequence to display: 10\n",
      "fibonacci(0) = 0\n",
      "fibonacci(1) = 1\n",
      "fibonacci(2) = 1\n",
      "fibonacci(3) = 2\n",
      "fibonacci(4) = 3\n",
      "fibonacci(5) = 5\n",
      "fibonacci(6) = 8\n",
      "fibonacci(7) = 13\n",
      "fibonacci(8) = 21\n",
      "fibonacci(9) = 34\n"
     ]
    }
   ],
   "source": [
    "def rec_fib(n):\n",
    "    if n == 0:\n",
    "        return 0\n",
    "    elif n == 1:\n",
    "        return 1\n",
    "    else:\n",
    "        return rec_fib(n - 1) + rec_fib(n - 2)\n",
    "    \n",
    "n = int(input('Choose the number of terms of fibonacci sequence to display: '))\n",
    "\n",
    "if n >= 0:\n",
    "    for i in range(n):\n",
    "        print('fibonacci(' + str(i) + ') =', rec_fib(i))\n",
    "else:\n",
    "    print('Plese enter a positive integer ') "
   ]
  },
  {
   "cell_type": "markdown",
   "metadata": {},
   "source": [
    "<div class=\"alert alert-block alert-info\">\n",
    "<b>Fibonacci sequence using Dynamic Programming</b>\n",
    "</div>"
   ]
  },
  {
   "cell_type": "code",
   "execution_count": 3,
   "metadata": {},
   "outputs": [
    {
     "name": "stdout",
     "output_type": "stream",
     "text": [
      "Choose the number of terms of fibonacci sequence to display: 10\n",
      "fibonacci(0) = 1\n",
      "fibonacci(1) = 1\n",
      "fibonacci(2) = 2\n",
      "fibonacci(3) = 3\n",
      "fibonacci(4) = 5\n",
      "fibonacci(5) = 8\n",
      "fibonacci(6) = 13\n",
      "fibonacci(7) = 21\n",
      "fibonacci(8) = 34\n",
      "fibonacci(9) = 55\n"
     ]
    }
   ],
   "source": [
    "def fibo(n):\n",
    "    fib = {0: 1, 1: 1}\n",
    "    for k in range(2, n + 1):\n",
    "        f = fib[k - 1] + fib[k - 2]\n",
    "        fib[k] = f\n",
    "    return fib[n]\n",
    "\n",
    "n = int(input('Choose the number of terms of fibonacci sequence to display: '))\n",
    "for i in range(n):\n",
    "    print('fibonacci(%d) = %d' %(i, fibo(i)))"
   ]
  }
 ],
 "metadata": {
  "kernelspec": {
   "display_name": "Python 3",
   "language": "python",
   "name": "python3"
  },
  "language_info": {
   "codemirror_mode": {
    "name": "ipython",
    "version": 3
   },
   "file_extension": ".py",
   "mimetype": "text/x-python",
   "name": "python",
   "nbconvert_exporter": "python",
   "pygments_lexer": "ipython3",
   "version": "3.7.7"
  }
 },
 "nbformat": 4,
 "nbformat_minor": 2
}
