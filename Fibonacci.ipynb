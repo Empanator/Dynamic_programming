{
 "cells": [
  {
   "cell_type": "markdown",
   "metadata": {},
   "source": [
    "***Color manual***\n",
    "\n",
    "<div class=\"alert alert-block alert-success\">\n",
    "<b>Green - Libraries</b>\n",
    "</div>\n",
    "\n",
    "<div class=\"alert alert-block alert-info\">\n",
    "<b>Blue - Information</b>\n",
    "</div>\n",
    "\n",
    "<div class=\"alert alert-block alert-danger\">\n",
    "<b>Red - Problems</b>\n",
    "</div>\n",
    "\n",
    "***"
   ]
  },
  {
   "cell_type": "markdown",
   "metadata": {},
   "source": [
    "<div class=\"alert alert-block alert-info\">\n",
    "<b>Fibonacci sequence with normal way</b>\n",
    "</div>"
   ]
  },
  {
   "cell_type": "code",
   "execution_count": 1,
   "metadata": {},
   "outputs": [
    {
     "name": "stdout",
     "output_type": "stream",
     "text": [
      "Choose the number of terms of fibonacci sequence to display: 10\n",
      "fibonacci(0) = 1\n",
      "fibonacci(1) = 1\n",
      "fibonacci(2) = 2\n",
      "fibonacci(3) = 3\n",
      "fibonacci(4) = 5\n",
      "fibonacci(5) = 8\n",
      "fibonacci(6) = 13\n",
      "fibonacci(7) = 21\n",
      "fibonacci(8) = 34\n",
      "fibonacci(9) = 55\n"
     ]
    }
   ],
   "source": [
    "a = 1\n",
    "b = 0\n",
    "\n",
    "n = int(input('Choose the number of terms of fibonacci sequence to display: '))\n",
    "\n",
    "if n >= 0:\n",
    "    for i in range(0, n):\n",
    "        fib = a + b\n",
    "        a = b\n",
    "        b = fib\n",
    "        print('fibonacci(' + str(i) + ') =', fib)\n",
    "else:\n",
    "    print('Plese enter a positive integer ')  "
   ]
  },
  {
   "cell_type": "markdown",
   "metadata": {},
   "source": [
    "<div class=\"alert alert-block alert-info\">\n",
    "<b>Fibonacci sequence with recursive way</b>\n",
    "</div>"
   ]
  },
  {
   "cell_type": "code",
   "execution_count": 2,
   "metadata": {},
   "outputs": [
    {
     "name": "stdout",
     "output_type": "stream",
     "text": [
      "Choose the number of terms of fibonacci sequence to display: 10\n",
      "fibonacci(0) = 1\n",
      "fibonacci(1) = 1\n",
      "fibonacci(2) = 2\n",
      "fibonacci(3) = 3\n",
      "fibonacci(4) = 5\n",
      "fibonacci(5) = 8\n",
      "fibonacci(6) = 13\n",
      "fibonacci(7) = 21\n",
      "fibonacci(8) = 34\n",
      "fibonacci(9) = 55\n"
     ]
    }
   ],
   "source": [
    "def rec_fib(n):\n",
    "    if n == 0 or n == 1:\n",
    "        return 1\n",
    "    else:\n",
    "        return rec_fib(n - 1) + rec_fib(n - 2)\n",
    "    \n",
    "n = int(input('Choose the number of terms of fibonacci sequence to display: '))\n",
    "\n",
    "if n >= 0:\n",
    "    for i in range(n):\n",
    "        print('fibonacci(' + str(i) + ') =', rec_fib(i))\n",
    "else:\n",
    "    print('Plese enter a positive integer ') "
   ]
  }
 ],
 "metadata": {
  "kernelspec": {
   "display_name": "Python 3",
   "language": "python",
   "name": "python3"
  },
  "language_info": {
   "codemirror_mode": {
    "name": "ipython",
    "version": 3
   },
   "file_extension": ".py",
   "mimetype": "text/x-python",
   "name": "python",
   "nbconvert_exporter": "python",
   "pygments_lexer": "ipython3",
   "version": "3.7.7"
  }
 },
 "nbformat": 4,
 "nbformat_minor": 2
}
